{
 "cells": [
  {
   "cell_type": "markdown",
   "metadata": {},
   "source": [
    "# Projet DATA732 - Analyse et Visualisation de données\n",
    "\n",
    "### LAURIANE KOALAGA et GNIDANHAN SORO\n",
    "\n",
    "Dans ce projet, nous devions analyser un corpus d'articles.\n",
    "Nous avons donc réalisé 3 dashboards."
   ]
  },
  {
   "cell_type": "code",
   "execution_count": 1,
   "metadata": {},
   "outputs": [
    {
     "name": "stderr",
     "output_type": "stream",
     "text": [
      "c:\\Users\\rosys\\anaconda3\\lib\\site-packages\\scipy\\__init__.py:146: UserWarning: A NumPy version >=1.16.5 and <1.23.0 is required for this version of SciPy (detected version 1.26.3\n",
      "  warnings.warn(f\"A NumPy version >={np_minversion} and <{np_maxversion}\"\n"
     ]
    }
   ],
   "source": [
    "import json\n",
    "import plotly.express as px\n",
    "from dash import Dash, dcc, html, Input, Output,State\n",
    "import numpy as np\n",
    "import pandas as pd\n",
    "import matplotlib.pyplot as plt\n",
    "from sklearn.feature_extraction import DictVectorizer\n",
    "from sklearn.cluster import KMeans\n",
    "from sklearn.metrics import silhouette_score\n",
    "import dash\n",
    "import plotly.graph_objects as go\n",
    "from collections import defaultdict, Counter\n"
   ]
  },
  {
   "cell_type": "markdown",
   "metadata": {},
   "source": [
    "# PARTIE 1 : \n",
    "Comment évolue le nombre d'articles au fil des mois dans le corpus? et\n",
    "Quels sont les 10 mots-clés les plus fréquents par année?\n",
    "\n"
   ]
  },
  {
   "cell_type": "markdown",
   "metadata": {},
   "source": []
  },
  {
   "cell_type": "markdown",
   "metadata": {},
   "source": [
    "# Etape 1 : importation des données :"
   ]
  },
  {
   "cell_type": "code",
   "execution_count": 2,
   "metadata": {},
   "outputs": [],
   "source": [
    "# nom du fichier\n",
    "file_name = 'topaz-data732--mali--fr.sputniknews.africa--20190101--20211231.json'\n",
    "\n",
    "# ouverture et téléchargement du fichier\n",
    "f = open(file_name, 'r', encoding='utf-8')\n",
    "data = json.loads(f.read())\n",
    "f.close()"
   ]
  },
  {
   "cell_type": "markdown",
   "metadata": {},
   "source": [
    "# Etape 2: Création du Dashboard 1"
   ]
  },
  {
   "cell_type": "code",
   "execution_count": 3,
   "metadata": {},
   "outputs": [
    {
     "data": {
      "text/html": [
       "\n",
       "        <iframe\n",
       "            width=\"100%\"\n",
       "            height=\"650\"\n",
       "            src=\"http://127.0.0.1:8050/\"\n",
       "            frameborder=\"0\"\n",
       "            allowfullscreen\n",
       "            \n",
       "        ></iframe>\n",
       "        "
      ],
      "text/plain": [
       "<IPython.lib.display.IFrame at 0x1e3a8897dc0>"
      ]
     },
     "metadata": {},
     "output_type": "display_data"
    }
   ],
   "source": [
    "# Créer le Dash web application\n",
    "app = Dash(__name__, suppress_callback_exceptions=True)\n",
    "\n",
    "# Définir les années disponibles dans les données\n",
    "years = list(data['data-all'].keys())\n",
    "\n",
    "# Initialiser selected_year\n",
    "selected_year = years[0]\n",
    "\n",
    "# Créer la mise en page du tableau de bord\n",
    "app.layout = html.Div(\n",
    "    [\n",
    "        html.H2(\"Top 10 Mots Clés Fréquents par Année\"),\n",
    "        html.Label(\"Sélectionner une année:\"),\n",
    "        dcc.Dropdown(\n",
    "            id='year-dropdown',\n",
    "            options=[{'label': year, 'value': year} for year in years],\n",
    "            value=selected_year,  # Valeur par défaut\n",
    "            clearable=False,  # Empêche la suppression de la sélection\n",
    "        ),\n",
    "        dcc.Graph(id='keyword-bar-chart'),\n",
    "        html.Div(id='barchart-container'),\n",
    "    ]\n",
    ")\n",
    "\n",
    "# Callback pour mettre à jour le graphique à barres en fonction de l'année sélectionnée\n",
    "@app.callback(\n",
    "    Output('keyword-bar-chart', 'figure'),\n",
    "    Input('year-dropdown', 'value'),\n",
    "    State('keyword-bar-chart', 'figure')\n",
    ")\n",
    "def update_keyword_bar_chart(selected_year, current_figure = None):\n",
    "    # Filtrer les données pour l'année sélectionnée\n",
    "    keywords_data = data['metadata-all']['fr']['year'][selected_year]['kws']\n",
    "    \n",
    "    sorted_dict = list(sorted(keywords_data.items(), key=lambda item: item[1], reverse=True))\n",
    "    top_keywords = dict(sorted_dict[0:10])\n",
    "\n",
    "    # Créer le bar chart interactif avec Plotly\n",
    "    fig = px.bar(\n",
    "        x=list(top_keywords.keys()),\n",
    "        y=list(top_keywords.values()),\n",
    "        labels={'x': 'Mots clés', 'y': 'Fréquence'},\n",
    "        title=f'Top 10 Mots Clés Fréquents en {selected_year}'\n",
    "    )\n",
    "    \n",
    "    return fig\n",
    "\n",
    "\n",
    "# Callback pour mettre à jour le graphique des mots clés en fonction du mois survolé\n",
    "@app.callback(\n",
    "    Output('keyword-bar-chart', 'figure', allow_duplicate=True),\n",
    "    Input('barchart-figure', 'hoverData'),\n",
    "    Input('year-dropdown', 'value'),\n",
    "    prevent_initial_call=True\n",
    ")\n",
    "def update_keywords_on_hover(hoverData, selected_year):\n",
    "\n",
    "    if hoverData:\n",
    "        # Extraire le mois survolé\n",
    "        selected_month = hoverData['points'][0]['x']\n",
    "\n",
    "        # Récupérer le dictionnaire de jours du mois sélectionné\n",
    "        jours_mois_selectionne = data[\"data-all\"][selected_year].get(selected_month, {})\n",
    "\n",
    "        # Compter les occurrences des mots clés du mois sélectionné\n",
    "        keywords_counter = Counter()\n",
    "        for articles_jour in jours_mois_selectionne.values():\n",
    "            for article_data in articles_jour:\n",
    "                keywords_counter.update(article_data['kws'])\n",
    "\n",
    "        # Sélectionner les 10 mots clés les plus fréquents\n",
    "        mots_cles_frequents = dict(keywords_counter.most_common(10))\n",
    "\n",
    "        # Créer le bar chart interactif avec Plotly pour les mots clés du mois sélectionné\n",
    "        fig = px.bar(\n",
    "            x=list(mots_cles_frequents.keys()),\n",
    "            y=list(mots_cles_frequents.values()),\n",
    "            labels={'x': 'Mots clés', 'y': 'Fréquence'},\n",
    "            title=f'Top 10 Mots Clés Fréquents en {selected_year}, Mois {selected_month}'\n",
    "        )\n",
    "\n",
    "        return fig\n",
    "\n",
    "    # Si aucune donnée n'est survolée, retournez le graphique initial\n",
    "    return update_keyword_bar_chart(selected_year)\n",
    "\n",
    "\n",
    "\n",
    "# Callback pour mettre à jour le graphique à barres en fonction de l'année sélectionnée\n",
    "@app.callback(\n",
    "    Output('barchart-container', 'children'),\n",
    "    Input('year-dropdown', 'value')\n",
    ")\n",
    "def update_barchart(selected_year):\n",
    "    result = {'month': [], 'count': []}\n",
    "    for month in sorted(data[\"data-all\"][selected_year].keys(), key=int):\n",
    "        result['month'].append(month)\n",
    "        compt = 0\n",
    "        for day in data[\"data-all\"][selected_year][month].keys():\n",
    "            compt += len(data[\"data-all\"][selected_year][month][day])\n",
    "        result['count'].append(compt)\n",
    "\n",
    "    fig = px.bar(result, x='month', y='count', title=f\"Nombre d'articles par mois en {selected_year}\")\n",
    "    \n",
    "    \n",
    "    # Retournez le graphique mis à jour\n",
    "    return dcc.Graph(figure=fig, id='barchart-figure')\n",
    "\n",
    "\n",
    "# Exécuter l'application\n",
    "if __name__ == \"__main__\":\n",
    "    app.run_server(debug=True, port=8050)\n",
    " "
   ]
  },
  {
   "cell_type": "markdown",
   "metadata": {},
   "source": [
    "# PARTIE 2 :\n",
    "\n",
    "Quels sont les 10 mots clés associés aux 10 personnes les plus cités dans le corpus ?\n",
    "Dans quels articles apparaissent les 10 personnes les plus fréquentes ? "
   ]
  },
  {
   "cell_type": "markdown",
   "metadata": {},
   "source": [
    "# Etape: création du dashboard 2"
   ]
  },
  {
   "cell_type": "code",
   "execution_count": 4,
   "metadata": {},
   "outputs": [
    {
     "data": {
      "text/html": [
       "\n",
       "        <iframe\n",
       "            width=\"100%\"\n",
       "            height=\"650\"\n",
       "            src=\"http://127.0.0.1:8051/\"\n",
       "            frameborder=\"0\"\n",
       "            allowfullscreen\n",
       "            \n",
       "        ></iframe>\n",
       "        "
      ],
      "text/plain": [
       "<IPython.lib.display.IFrame at 0x1e3a8a0bdc0>"
      ]
     },
     "metadata": {},
     "output_type": "display_data"
    }
   ],
   "source": [
    "\n",
    "# Calcul des 10 personnes les plus fréquentes\n",
    "persons_keywords = []\n",
    "\n",
    "for year, months in data[\"data-all\"].items():\n",
    "    for month, days in months.items():\n",
    "        for day, articles in days.items():\n",
    "            for article in articles:\n",
    "                if 'per' in article and 'kws' in article:\n",
    "                    persons = article['per']\n",
    "                    kws = list(article['kws'].keys())\n",
    "\n",
    "                    for person in persons:\n",
    "                        for kw in kws:\n",
    "                            persons_keywords.append({'Personne': person, 'Mot-Clé': kw})\n",
    "\n",
    "df = pd.DataFrame(persons_keywords)\n",
    "counts = df.groupby(['Personne', 'Mot-Clé']).size().reset_index(name='Fréquence')\n",
    "top_persons = counts.groupby('Personne').sum('Fréquence').nlargest(10, 'Fréquence').index.get_level_values('Personne').tolist()\n",
    "\n",
    "# Initialisation de  l'application Dash\n",
    "app = dash.Dash(__name__)\n",
    "\n",
    "# Mise en page de l'application\n",
    "app.layout = html.Div([\n",
    "    dcc.Graph(id='heatmap-graph'), \n",
    "    dcc.Dropdown(\n",
    "        id='personne-dropdown',\n",
    "        options=[{'label': person, 'value': person} for person in top_persons],\n",
    "        value=top_persons[0],  # Valeur par défaut\n",
    "        multi=False\n",
    "    ),\n",
    "    dcc.DatePickerRange(\n",
    "    id='date-picker-range',\n",
    "    start_date='2019-01-01',\n",
    "    end_date='2022-12-31',\n",
    "    display_format='DD-MM-YYYY',  \n",
    "    ),\n",
    "    dcc.Graph(id='evolution-temporelle-graph'),\n",
    "])\n",
    "\n",
    "# Callback pour mettre à jour le graphique évolution temporelle pour la personne sélectionnée et de la plage de dates\n",
    "@app.callback(\n",
    "    Output('evolution-temporelle-graph', 'figure'),\n",
    "    [Input('personne-dropdown', 'value'),\n",
    "     Input('date-picker-range', 'start_date'),\n",
    "     Input('date-picker-range', 'end_date')]\n",
    ")\n",
    "def update_evolution_temporelle_graph(selected_personne, start_date, end_date):\n",
    "    articles_personne = []\n",
    "\n",
    "    for year, months in data[\"data-all\"].items():\n",
    "        current_year = int(year)\n",
    "        if current_year < int(start_date[:4]) or current_year > int(end_date[:4]):\n",
    "            continue\n",
    "\n",
    "        for month, days in months.items():\n",
    "            for day, articles in days.items():\n",
    "                for article in articles:\n",
    "                    if 'per' in article and selected_personne in article['per']:\n",
    "                        timestamp = article.get('timestamp', 0)\n",
    "                        articles_personne.append({'Timestamp': timestamp, 'Article': article['title']})\n",
    "\n",
    "    df_personne = pd.DataFrame(articles_personne)\n",
    "    df_personne['Date'] = pd.to_datetime(df_personne['Timestamp'], unit='s')\n",
    "    df_personne = df_personne.sort_values(by='Date')\n",
    "\n",
    "    df_personne['Article_Numero'] = ['Article {}'.format(i + 1) for i in range(len(df_personne))]\n",
    "\n",
    "    fig = go.Figure(go.Scatter(x=df_personne['Date'], y=df_personne['Article_Numero'], mode='markers',\n",
    "                              text=df_personne[['Article_Numero', 'Article', 'Date']].apply(lambda x: f'{x[0]} - {x[1]} - {x[2].strftime(\"%d-%m-%Y\")}', axis=1)))\n",
    "\n",
    "    fig.update_traces(hovertemplate='%{text}')\n",
    "    fig.update_layout(title=f'Évolution temporelle des articles pour {selected_personne}',\n",
    "                      xaxis_title='Date', yaxis_title='Article')\n",
    "\n",
    "    return fig\n",
    "\n",
    "# Callback pour mettre à jour le graphique heatmap en fonction de l'ensemble des données\n",
    "@app.callback(\n",
    "    Output('heatmap-graph', 'figure'),\n",
    "    [Input('personne-dropdown', 'value')]\n",
    ")\n",
    "def update_heatmap(selected_personne):\n",
    "    persons_keywords = []\n",
    "\n",
    "    for year, months in data[\"data-all\"].items():\n",
    "        for month, days in months.items():\n",
    "            for day, articles in days.items():\n",
    "                for article in articles:\n",
    "                    if 'per' in article and 'kws' in article:\n",
    "                        persons = article['per']\n",
    "                        kws = list(article['kws'].keys())\n",
    "\n",
    "                        for person in persons:\n",
    "                            for kw in kws:\n",
    "                                persons_keywords.append({'Personne': person, 'Mot-Clé': kw})\n",
    "\n",
    "    df = pd.DataFrame(persons_keywords)\n",
    "    counts = df.groupby(['Personne', 'Mot-Clé']).size().reset_index(name='Fréquence')\n",
    "\n",
    "    top_persons = counts.groupby('Personne').sum('Fréquence').nlargest(10, 'Fréquence').index.get_level_values('Personne').tolist()\n",
    "    top_keywords = counts.groupby('Mot-Clé').sum('Fréquence').nlargest(10, 'Fréquence').index.get_level_values('Mot-Clé').tolist()\n",
    "    filtered_counts = counts[(counts['Personne'].isin(top_persons)) & (counts['Mot-Clé'].isin(top_keywords))]\n",
    "\n",
    "    sorted_keywords = filtered_counts.sort_values(by='Fréquence', ascending=False)\n",
    "\n",
    "    fig_heatmap = go.Figure(data=go.Heatmap(\n",
    "        x=sorted_keywords['Personne'],\n",
    "        y=sorted_keywords['Mot-Clé'],\n",
    "        z=sorted_keywords['Fréquence'],\n",
    "        colorscale='OrRd'))\n",
    "\n",
    "    for personne, mot_cle, frequence in zip(sorted_keywords['Personne'], sorted_keywords['Mot-Clé'], sorted_keywords['Fréquence']):\n",
    "        fig_heatmap.add_annotation(\n",
    "            x=personne,\n",
    "            y=mot_cle,\n",
    "            text=str(frequence),\n",
    "            showarrow=False,\n",
    "            font=dict(color='black', size=10),\n",
    "        )\n",
    "\n",
    "    fig_heatmap.update_xaxes(type='category')\n",
    "    fig_heatmap.update_layout(title='Heatmap des Personnes et Mots-Clés')\n",
    "\n",
    "    return fig_heatmap\n",
    "\n",
    "# Exécuter l'application\n",
    "if __name__ == '__main__':\n",
    "    app.run_server(debug=True, port=8051)"
   ]
  },
  {
   "cell_type": "markdown",
   "metadata": {},
   "source": [
    "# PARTIE 3 :\n",
    "\n",
    "Est-ce possible de regrouper les articles du corpus en se basant sur les localisations qui y sont citées ?\n",
    "De combien d’articles se compose donc chaque groupe formé ?\n",
    "Quand on survole un cluster, quelles sont les 10 localisations les plus citées dans les articles appartenant au cluster survolé ?\n",
    "\n"
   ]
  },
  {
   "cell_type": "markdown",
   "metadata": {},
   "source": [
    "# Etape 1: Clustering des articles en fonction des localisations"
   ]
  },
  {
   "cell_type": "markdown",
   "metadata": {},
   "source": [
    "Extraction de toutes les localisations des articles du corpus :"
   ]
  },
  {
   "cell_type": "code",
   "execution_count": 5,
   "metadata": {},
   "outputs": [],
   "source": [
    "def extractionLocalisations():\n",
    "    dict_locs = {}\n",
    "\n",
    "    for year in sorted(data['data-all'].keys(), key=int):\n",
    "        for month in sorted(data['data-all'][year].keys(), key =int):\n",
    "            for day in sorted(data['data-all'][year][month].keys(), key = int):\n",
    "                new_key = year + '-' + month + '-' + day\n",
    "                dict_locs[new_key] = {}  # Créer un dictionnaire vide pour chaque nouvelle clé\n",
    "                \n",
    "                for article in data['data-all'][year][month][day]:\n",
    "                    # Vérifier si la clé 'loc' est présente dans l'article\n",
    "                       if 'loc' in article.keys():\n",
    "                           dict_locs[new_key] = article['loc']\n",
    "    return list((dict_locs.values()))\n",
    "\n",
    "   \n",
    "#extractionLocalisations()\n",
    "\n",
    "\n",
    "\n"
   ]
  },
  {
   "cell_type": "markdown",
   "metadata": {},
   "source": [
    "Vectorisation :"
   ]
  },
  {
   "cell_type": "code",
   "execution_count": 6,
   "metadata": {},
   "outputs": [],
   "source": [
    "list_locs = extractionLocalisations() \n",
    "vectorizer = DictVectorizer(sparse=False)\n",
    "X = vectorizer.fit_transform(list_locs)\n",
    "\n",
    "#print(X)\n"
   ]
  },
  {
   "cell_type": "markdown",
   "metadata": {},
   "source": [
    "Determination du nombre optimal de cluster avec la méthode Silhouette :"
   ]
  },
  {
   "cell_type": "code",
   "execution_count": 7,
   "metadata": {},
   "outputs": [
    {
     "data": {
      "image/png": "[encoded data removed]",
      "text/plain": [
       "<Figure size 576x288 with 1 Axes>"
      ]
     },
     "metadata": {
      "needs_background": "light"
     },
     "output_type": "display_data"
    },
    {
     "name": "stdout",
     "output_type": "stream",
     "text": [
      "Le nombre optimal de clusters est : 3\n"
     ]
    }
   ],
   "source": [
    "\n",
    "# Silhouette\n",
    "silhouette_scores = []\n",
    "for i in range(2, 11):\n",
    "    kmeans = KMeans(n_clusters=i, init='k-means++', random_state=42)\n",
    "    cluster_labels = kmeans.fit_predict(X)\n",
    "    silhouette_avg = silhouette_score(X, cluster_labels)\n",
    "    silhouette_scores.append(silhouette_avg)\n",
    "\n",
    "# Tracer la courbe de la silhouette\n",
    "plt.figure(figsize=(8, 4))\n",
    "plt.plot(range(2, 11), silhouette_scores, marker='o')\n",
    "plt.title('Silhouette Method')\n",
    "plt.xlabel('Nombre de clusters')\n",
    "plt.ylabel('Silhouette Score')\n",
    "plt.show()\n",
    "\n",
    "# Trouver le nombre de clusters avec le score de silhouette le plus élevé\n",
    "best_num_clusters = np.argmax(silhouette_scores) + 2  # +2 car on commence à partir de 2 clusters\n",
    "\n",
    "# Afficher le résultat\n",
    "print(f\"Le nombre optimal de clusters est : {best_num_clusters}\")\n",
    "\n"
   ]
  },
  {
   "cell_type": "markdown",
   "metadata": {},
   "source": [
    "Application du modèle de clustering : K-Means"
   ]
  },
  {
   "cell_type": "code",
   "execution_count": 8,
   "metadata": {},
   "outputs": [],
   "source": [
    "# Création du modèle de clustering \n",
    "kmeans = KMeans(n_clusters=best_num_clusters, random_state=5)\n",
    "kmeans.fit(X)\n",
    "\n",
    "# Ajouter les étiquettes de cluster aux données originales\n",
    "for i, loc_dict in enumerate(list_locs):\n",
    "    loc_dict['cluster'] = kmeans.labels_[i]\n",
    "\n",
    "    #print(loc_dict)\n"
   ]
  },
  {
   "cell_type": "code",
   "execution_count": 9,
   "metadata": {},
   "outputs": [],
   "source": [
    "# Obtenir le nombre total de clusters\n",
    "num_clusters = max(kmeans.labels_) + 1\n",
    "\n",
    "# Initialiser un dictionnaire par défaut pour stocker les localisations par cluster\n",
    "clustered_locs = defaultdict(list)\n",
    "\n",
    "# Collecter les localisations par cluster\n",
    "for i, loc_dict in enumerate(list_locs):\n",
    "    cluster_id = loc_dict['cluster']\n",
    "    \n",
    "    # Parcourir toutes les clés sauf 'cluster'\n",
    "    for country, count in loc_dict.items():\n",
    "        if country != 'cluster':\n",
    "            clustered_locs[cluster_id].extend([country] * count)\n"
   ]
  },
  {
   "cell_type": "markdown",
   "metadata": {},
   "source": [
    "Visualisation du Heatmap des centroïdes avec plotly :"
   ]
  },
  {
   "cell_type": "code",
   "execution_count": 10,
   "metadata": {},
   "outputs": [],
   "source": [
    "# Obtenir les centres des clusters à partir du modèle KMeans\n",
    "cluster_centers = kmeans.cluster_centers_\n",
    "\n",
    "# Calculer la matrice de distance euclidienne entre les centres\n",
    "distance_matrix = pd.DataFrame(np.linalg.norm(cluster_centers[:, np.newaxis] - cluster_centers, axis=-1))\n",
    "\n",
    "# Créer une heatmap avec Plotly Express\n",
    "heatmap_fig = px.imshow(\n",
    "    distance_matrix,\n",
    "    labels=dict(x='Cluster', y='Cluster', color='Distance'),\n",
    "    x=list(range(distance_matrix.shape[1])),\n",
    "    y=list(range(distance_matrix.shape[0])),\n",
    "    color_continuous_scale=\"YlGnBu\",\n",
    "    title='Matrice de distance entre les centres (centroïdes) des clusters',\n",
    ")\n",
    "\n",
    "# Ajoutez des annotations pour afficher les valeurs dans les carrés\n",
    "for i in range(distance_matrix.shape[0]):\n",
    "    for j in range(distance_matrix.shape[1]):\n",
    "        heatmap_fig.add_annotation(\n",
    "            x=j,\n",
    "            y=i,\n",
    "            text=str(distance_matrix.iloc[i, j].round(3)),\n",
    "            showarrow=False,\n",
    "            font=dict(color='red')\n",
    "        )\n",
    "\n",
    "# Affichez la heatmap\n",
    "#heatmap_fig.show()\n"
   ]
  },
  {
   "cell_type": "markdown",
   "metadata": {},
   "source": [
    "# Etape 2 : Visualisation des articles par cluster "
   ]
  },
  {
   "cell_type": "code",
   "execution_count": 11,
   "metadata": {},
   "outputs": [],
   "source": [
    "\n",
    "# Créer un DataFrame avec les labels de cluster\n",
    "df_clusters = pd.DataFrame({'cluster': kmeans.labels_})\n",
    "\n",
    "# Compter le nombre d'articles par cluster\n",
    "cluster_counts = df_clusters['cluster'].value_counts().reset_index()\n",
    "cluster_counts.columns = ['cluster', 'count']\n",
    "\n",
    "# Créer un diagramme à barres avec Plotly Express\n",
    "bar_chart_fig = px.bar(cluster_counts, x='cluster', y='count', labels={'cluster': 'Cluster', 'count': 'Nombre d\\'articles'}, \n",
    "             title='Répartition des articles par cluster')\n",
    "\n",
    "\n",
    "\n"
   ]
  },
  {
   "cell_type": "markdown",
   "metadata": {},
   "source": [
    "# Etape 3 : Extraction des localisations les plus citées du corpus "
   ]
  },
  {
   "cell_type": "code",
   "execution_count": 12,
   "metadata": {},
   "outputs": [],
   "source": [
    "loc_fig = None\n",
    "def extractionLocalisation(loc_dict):\n",
    "    global loc_fig  \n",
    "    # Tri du dictionnaire des localisations par fréquence\n",
    "    sorted_dict = list(sorted(loc_dict.items(), key=lambda item: item[1], reverse=True))\n",
    "    \n",
    "    # Séparer les 10 localisations et leurs fréquences\n",
    "    top_locs = dict(sorted_dict[0:10])\n",
    "\n",
    "    # Créer le bar chart interactif avec Plotly\n",
    "    loc_fig = px.bar(x=list(top_locs.keys()), y=list(top_locs.values()), labels={'x': 'Localisations', 'y': 'Fréquence'},\n",
    "                 title='Top 10 Localisations Fréquentes')\n",
    "    \n",
    "    # Afficher le graphique interactif\n",
    "    #loc_fig.show()\n",
    "\n",
    "# Utilisation de la fonction avec le dictionnaire des localisations de vos données\n",
    "dictOfLocs = data[\"metadata-all\"][\"fr\"][\"all\"][\"loc\"]\n",
    "extractionLocalisation(dictOfLocs)\n",
    "\n",
    "# Utilisation de la fonction avec le dictionnaire des localisations de vos données\n",
    "list_locs = extractionLocalisations()\n"
   ]
  },
  {
   "cell_type": "markdown",
   "metadata": {},
   "source": [
    "# Etape 4 : Création du Dashboard 3"
   ]
  },
  {
   "cell_type": "code",
   "execution_count": 13,
   "metadata": {},
   "outputs": [
    {
     "data": {
      "text/html": [
       "\n",
       "        <iframe\n",
       "            width=\"100%\"\n",
       "            height=\"650\"\n",
       "            src=\"http://127.0.0.1:8052/\"\n",
       "            frameborder=\"0\"\n",
       "            allowfullscreen\n",
       "            \n",
       "        ></iframe>\n",
       "        "
      ],
      "text/plain": [
       "<IPython.lib.display.IFrame at 0x1e3b5d94dc0>"
      ]
     },
     "metadata": {},
     "output_type": "display_data"
    },
    {
     "name": "stderr",
     "output_type": "stream",
     "text": [
      "C:\\Users\\rosys\\AppData\\Local\\Temp\\ipykernel_2720\\3223185539.py:70: FutureWarning:\n",
      "\n",
      "Series.__getitem__ treating keys as positions is deprecated. In a future version, integer keys will always be treated as labels (consistent with DataFrame behavior). To access a value by position, use `ser.iloc[pos]`\n",
      "\n",
      "C:\\Users\\rosys\\AppData\\Local\\Temp\\ipykernel_2720\\3223185539.py:70: FutureWarning:\n",
      "\n",
      "Series.__getitem__ treating keys as positions is deprecated. In a future version, integer keys will always be treated as labels (consistent with DataFrame behavior). To access a value by position, use `ser.iloc[pos]`\n",
      "\n",
      "C:\\Users\\rosys\\AppData\\Local\\Temp\\ipykernel_2720\\3223185539.py:70: FutureWarning:\n",
      "\n",
      "Series.__getitem__ treating keys as positions is deprecated. In a future version, integer keys will always be treated as labels (consistent with DataFrame behavior). To access a value by position, use `ser.iloc[pos]`\n",
      "\n",
      "C:\\Users\\rosys\\AppData\\Local\\Temp\\ipykernel_2720\\3223185539.py:70: FutureWarning:\n",
      "\n",
      "Series.__getitem__ treating keys as positions is deprecated. In a future version, integer keys will always be treated as labels (consistent with DataFrame behavior). To access a value by position, use `ser.iloc[pos]`\n",
      "\n",
      "C:\\Users\\rosys\\AppData\\Local\\Temp\\ipykernel_2720\\3223185539.py:70: FutureWarning:\n",
      "\n",
      "Series.__getitem__ treating keys as positions is deprecated. In a future version, integer keys will always be treated as labels (consistent with DataFrame behavior). To access a value by position, use `ser.iloc[pos]`\n",
      "\n",
      "C:\\Users\\rosys\\AppData\\Local\\Temp\\ipykernel_2720\\3223185539.py:70: FutureWarning:\n",
      "\n",
      "Series.__getitem__ treating keys as positions is deprecated. In a future version, integer keys will always be treated as labels (consistent with DataFrame behavior). To access a value by position, use `ser.iloc[pos]`\n",
      "\n",
      "C:\\Users\\rosys\\AppData\\Local\\Temp\\ipykernel_2720\\3223185539.py:70: FutureWarning:\n",
      "\n",
      "Series.__getitem__ treating keys as positions is deprecated. In a future version, integer keys will always be treated as labels (consistent with DataFrame behavior). To access a value by position, use `ser.iloc[pos]`\n",
      "\n",
      "C:\\Users\\rosys\\AppData\\Local\\Temp\\ipykernel_2720\\3223185539.py:70: FutureWarning:\n",
      "\n",
      "Series.__getitem__ treating keys as positions is deprecated. In a future version, integer keys will always be treated as labels (consistent with DataFrame behavior). To access a value by position, use `ser.iloc[pos]`\n",
      "\n"
     ]
    }
   ],
   "source": [
    "\n",
    "# Créer le Dash web application\n",
    "app = Dash(__name__, suppress_callback_exceptions=True)\n",
    "\n",
    "\n",
    "# Créer la mise en page du tableau de bord\n",
    "app.layout = html.Div(\n",
    "    [   \n",
    "        dcc.Graph(id='heatmap-graph', figure=heatmap_fig),\n",
    "        dcc.Graph(id='bar-chart-graph', figure=bar_chart_fig),\n",
    "        dcc.Graph(id='loc-graph', figure=loc_fig),\n",
    "    ]\n",
    ")\n",
    "\n",
    "# Callback pour mettre à jour le graphique à barres des localisations en fonction du cluster sélectionné\n",
    "@app.callback(\n",
    "    Output('loc-graph', 'figure', allow_duplicate=True),\n",
    "    Input('bar-chart-graph', 'hoverData'),\n",
    "    prevent_initial_call=True\n",
    ")\n",
    "def update_loc_graph_hover(hover_data):\n",
    "    if hover_data is not None:\n",
    "        selected_cluster = hover_data['points'][0]['x']\n",
    "        \n",
    "        # Filtrer les données pour le cluster survolé\n",
    "        loc_list = clustered_locs[selected_cluster]\n",
    "        \n",
    "        # Trouver les 10 localisations les plus fréquentes pour le cluster survolé\n",
    "        loc_counter = Counter(loc_list)\n",
    "        top_locs = dict(loc_counter.most_common(10))\n",
    "\n",
    "        # Créer le bar chart interactif mis à jour avec Plotly\n",
    "        updated_loc_fig_hover = px.bar(\n",
    "            x=list(top_locs.keys()),\n",
    "            y=list(top_locs.values()),\n",
    "            labels={'x': 'Localisations', 'y': 'Fréquence'},\n",
    "            title=f'Top 10 Localisations Fréquentes (Cluster {selected_cluster} - Survol)'\n",
    "        )\n",
    "        \n",
    "        return updated_loc_fig_hover\n",
    "    else:\n",
    "        # Si aucune barre n'est survolée, afficher le graphique initial des localisations\n",
    "        return loc_fig\n",
    "\n",
    "# Exécuter l'application\n",
    "if __name__ == \"__main__\":\n",
    "    app.run_server(debug=True, port=8052)\n",
    "\n",
    "\n"
   ]
  }
 ],
 "metadata": {
  "kernelspec": {
   "display_name": "base",
   "language": "python",
   "name": "python3"
  },
  "language_info": {
   "codemirror_mode": {
    "name": "ipython",
    "version": 3
   },
   "file_extension": ".py",
   "mimetype": "text/x-python",
   "name": "python",
   "nbconvert_exporter": "python",
   "pygments_lexer": "ipython3",
   "version": "3.9.12"
  }
 },
 "nbformat": 4,
 "nbformat_minor": 2
}
